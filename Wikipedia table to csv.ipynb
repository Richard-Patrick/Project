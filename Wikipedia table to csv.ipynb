{
 "cells": [
  {
   "cell_type": "code",
   "execution_count": 20,
   "id": "2618f09e",
   "metadata": {},
   "outputs": [],
   "source": [
    "import requests\n",
    "from bs4 import BeautifulSoup\n",
    "import pandas as pd\n",
    "\n",
    "def get_table_from_wikipedia(url):\n",
    "    response = requests.get(url)\n",
    "    soup = BeautifulSoup(response.text, 'html.parser')\n",
    "    table = soup.find('table', {'class': 'wikitable'})\n",
    "    if table is not None:\n",
    "        rows = table.find_all('tr')\n",
    "        data = []\n",
    "        for row in rows:\n",
    "            cells = row.find_all('td')\n",
    "            row_data = []\n",
    "            for cell in cells:\n",
    "                row_data.append(cell.text.strip())\n",
    "            if row_data:\n",
    "                data.append(row_data)\n",
    "        return data\n",
    "    else:\n",
    "        return None\n",
    "def convert_table_to_csv(table_data, file_name):\n",
    "    df = pd.DataFrame(table_data)\n",
    "    df.to_csv(file_name, index=False, header=False, encoding='utf-8')"
   ]
  },
  {
   "cell_type": "code",
   "execution_count": 24,
   "id": "62d09b1c",
   "metadata": {},
   "outputs": [],
   "source": [
    "wikipedia_url = 'https://en.wikipedia.org/wiki/List_of_Nobel_laureates'"
   ]
  },
  {
   "cell_type": "code",
   "execution_count": 22,
   "id": "882980f9",
   "metadata": {},
   "outputs": [],
   "source": [
    "table_data = get_table_from_wikipedia(wikipedia_url)"
   ]
  },
  {
   "cell_type": "code",
   "execution_count": 23,
   "id": "7e403297",
   "metadata": {},
   "outputs": [],
   "source": [
    "if table_data is not None:\n",
    "    convert_table_to_csv(table_data, 'table_data.csv')"
   ]
  }
 ],
 "metadata": {
  "kernelspec": {
   "display_name": "Python 3 (ipykernel)",
   "language": "python",
   "name": "python3"
  },
  "language_info": {
   "codemirror_mode": {
    "name": "ipython",
    "version": 3
   },
   "file_extension": ".py",
   "mimetype": "text/x-python",
   "name": "python",
   "nbconvert_exporter": "python",
   "pygments_lexer": "ipython3",
   "version": "3.10.9"
  }
 },
 "nbformat": 4,
 "nbformat_minor": 5
}
